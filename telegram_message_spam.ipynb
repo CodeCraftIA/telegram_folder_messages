{
  "nbformat": 4,
  "nbformat_minor": 0,
  "metadata": {
    "colab": {
      "provenance": [],
      "authorship_tag": "ABX9TyPePOnPBB0BnTFI+jCuXhsZ",
      "include_colab_link": true
    },
    "kernelspec": {
      "name": "python3",
      "display_name": "Python 3"
    },
    "language_info": {
      "name": "python"
    }
  },
  "cells": [
    {
      "cell_type": "markdown",
      "metadata": {
        "id": "view-in-github",
        "colab_type": "text"
      },
      "source": [
        "<a href=\"https://colab.research.google.com/github/CodeCraftIA/telegram_folder_messages/blob/main/telegram_message_spam.ipynb\" target=\"_parent\"><img src=\"https://colab.research.google.com/assets/colab-badge.svg\" alt=\"Open In Colab\"/></a>"
      ]
    },
    {
      "cell_type": "code",
      "source": [
        "!pip install telethon"
      ],
      "metadata": {
        "colab": {
          "base_uri": "https://localhost:8080/"
        },
        "collapsed": true,
        "id": "_07qly-azMo-",
        "outputId": "54f41aa0-d910-4dc4-9964-56b4a7bb5b55"
      },
      "execution_count": null,
      "outputs": [
        {
          "output_type": "stream",
          "name": "stdout",
          "text": [
            "Collecting telethon\n",
            "  Downloading Telethon-1.35.0.tar.gz (599 kB)\n",
            "\u001b[?25l     \u001b[90m━━━━━━━━━━━━━━━━━━━━━━━━━━━━━━━━━━━━━━━━\u001b[0m \u001b[32m0.0/599.8 kB\u001b[0m \u001b[31m?\u001b[0m eta \u001b[36m-:--:--\u001b[0m\r\u001b[2K     \u001b[91m━━━━━━━━\u001b[0m\u001b[90m╺\u001b[0m\u001b[90m━━━━━━━━━━━━━━━━━━━━━━━━━━━━━━━\u001b[0m \u001b[32m122.9/599.8 kB\u001b[0m \u001b[31m3.5 MB/s\u001b[0m eta \u001b[36m0:00:01\u001b[0m\r\u001b[2K     \u001b[91m━━━━━━━━━━━━━━━━━━━━━━━━━━━━━━━━━━━━━\u001b[0m\u001b[91m╸\u001b[0m\u001b[90m━━\u001b[0m \u001b[32m563.2/599.8 kB\u001b[0m \u001b[31m7.8 MB/s\u001b[0m eta \u001b[36m0:00:01\u001b[0m\r\u001b[2K     \u001b[91m━━━━━━━━━━━━━━━━━━━━━━━━━━━━━━━━━━━━━━━\u001b[0m\u001b[91m╸\u001b[0m \u001b[32m593.9/599.8 kB\u001b[0m \u001b[31m7.7 MB/s\u001b[0m eta \u001b[36m0:00:01\u001b[0m\r\u001b[2K     \u001b[90m━━━━━━━━━━━━━━━━━━━━━━━━━━━━━━━━━━━━━━━━\u001b[0m \u001b[32m599.8/599.8 kB\u001b[0m \u001b[31m5.2 MB/s\u001b[0m eta \u001b[36m0:00:00\u001b[0m\n",
            "\u001b[?25h  Installing build dependencies ... \u001b[?25l\u001b[?25hdone\n",
            "  Getting requirements to build wheel ... \u001b[?25l\u001b[?25hdone\n",
            "  Preparing metadata (pyproject.toml) ... \u001b[?25l\u001b[?25hdone\n",
            "Collecting pyaes (from telethon)\n",
            "  Downloading pyaes-1.6.1.tar.gz (28 kB)\n",
            "  Preparing metadata (setup.py) ... \u001b[?25l\u001b[?25hdone\n",
            "Requirement already satisfied: rsa in /usr/local/lib/python3.10/dist-packages (from telethon) (4.9)\n",
            "Requirement already satisfied: pyasn1>=0.1.3 in /usr/local/lib/python3.10/dist-packages (from rsa->telethon) (0.6.0)\n",
            "Building wheels for collected packages: telethon, pyaes\n",
            "  Building wheel for telethon (pyproject.toml) ... \u001b[?25l\u001b[?25hdone\n",
            "  Created wheel for telethon: filename=Telethon-1.35.0-py3-none-any.whl size=675107 sha256=c7b394e2a99787bc85a5e6bbcc174e1a6d961f520372ceb5c795bb491e1919e2\n",
            "  Stored in directory: /root/.cache/pip/wheels/7b/18/81/4a5a3adfd4af392db743a5a5942157c220bbedda57a17d6bbf\n",
            "  Building wheel for pyaes (setup.py) ... \u001b[?25l\u001b[?25hdone\n",
            "  Created wheel for pyaes: filename=pyaes-1.6.1-py3-none-any.whl size=26347 sha256=5f6cbb8cd857446563f8c16ec201c7101cbb98eabcae42dd79f0db05a26c4519\n",
            "  Stored in directory: /root/.cache/pip/wheels/d6/84/5f/ea6aef85a93c7e1922486369874f4740a5642d261e09c59140\n",
            "Successfully built telethon pyaes\n",
            "Installing collected packages: pyaes, telethon\n",
            "Successfully installed pyaes-1.6.1 telethon-1.35.0\n"
          ]
        }
      ]
    },
    {
      "cell_type": "code",
      "source": [
        "api_id = 'xxx'\n",
        "api_hash = 'xxxx'\n",
        "message = \"Your message goes here\""
      ],
      "metadata": {
        "id": "0alle00GzPoY"
      },
      "execution_count": null,
      "outputs": []
    },
    {
      "cell_type": "markdown",
      "source": [
        "This script finds all the chats that have been saved to a folder named spam and sents to all of them a fixed message. You can change the folder name to you desired"
      ],
      "metadata": {
        "id": "yszy0WYQPrR8"
      }
    },
    {
      "cell_type": "code",
      "execution_count": null,
      "metadata": {
        "colab": {
          "base_uri": "https://localhost:8080/"
        },
        "collapsed": true,
        "id": "LfQG0bney9je",
        "outputId": "fda0e169-ff88-435c-e841-8515bf3056b1"
      },
      "outputs": [
        {
          "output_type": "stream",
          "name": "stdout",
          "text": [
            "Please enter your phone (or bot token): +306980525607\n",
            "Please enter the code you received: 99051\n",
            "Signed in successfully as Ilias Ad; remember to not break the ToS or you will risk an account ban!\n"
          ]
        },
        {
          "output_type": "stream",
          "name": "stderr",
          "text": [
            "\r  0%|          | 0/10 [00:00<?, ?it/s]"
          ]
        },
        {
          "output_type": "stream",
          "name": "stdout",
          "text": [
            " Sending test message to: TEST group\n"
          ]
        },
        {
          "output_type": "stream",
          "name": "stderr",
          "text": [
            "\r 10%|█         | 1/10 [00:05<00:48,  5.43s/it]"
          ]
        },
        {
          "output_type": "stream",
          "name": "stdout",
          "text": [
            " Sending test message to: Test public dev group\n"
          ]
        },
        {
          "output_type": "stream",
          "name": "stderr",
          "text": [
            "\r 20%|██        | 2/10 [00:10<00:43,  5.47s/it]"
          ]
        },
        {
          "output_type": "stream",
          "name": "stdout",
          "text": [
            " Sending test message to: ⚡️ reinfovf - Dev / Testing group\n"
          ]
        },
        {
          "output_type": "stream",
          "name": "stderr",
          "text": [
            "\r 30%|███       | 3/10 [00:16<00:38,  5.45s/it]"
          ]
        },
        {
          "output_type": "stream",
          "name": "stdout",
          "text": [
            " Sending test message to: Italian spam\n"
          ]
        },
        {
          "output_type": "stream",
          "name": "stderr",
          "text": [
            "\r 40%|████      | 4/10 [00:21<00:32,  5.44s/it]"
          ]
        },
        {
          "output_type": "stream",
          "name": "stdout",
          "text": [
            " Sending test message to: PANTHER SPAM GROUP 🦁\n"
          ]
        },
        {
          "output_type": "stream",
          "name": "stderr",
          "text": [
            "\r 50%|█████     | 5/10 [00:27<00:27,  5.44s/it]"
          ]
        },
        {
          "output_type": "stream",
          "name": "stdout",
          "text": [
            " Sending test message to: 🍝Spaghetti Spam, Spam all’italiana.🇮🇹\n"
          ]
        },
        {
          "output_type": "stream",
          "name": "stderr",
          "text": [
            "\r 60%|██████    | 6/10 [00:32<00:21,  5.46s/it]"
          ]
        },
        {
          "output_type": "stream",
          "name": "stdout",
          "text": [
            " Sending test message to: Final Gruppo Spam\n"
          ]
        },
        {
          "output_type": "stream",
          "name": "stderr",
          "text": [
            "\r 70%|███████   | 7/10 [00:38<00:16,  5.46s/it]"
          ]
        },
        {
          "output_type": "stream",
          "name": "stdout",
          "text": [
            " Sending test message to: Spam: Groups\n"
          ]
        },
        {
          "output_type": "stream",
          "name": "stderr",
          "text": [
            "\r 80%|████████  | 8/10 [00:44<00:11,  5.58s/it]"
          ]
        },
        {
          "output_type": "stream",
          "name": "stdout",
          "text": [
            " Oops, maybe the entiny was not group. The message still gonna be sent\n"
          ]
        },
        {
          "output_type": "stream",
          "name": "stderr",
          "text": [
            "\r 90%|█████████ | 9/10 [00:49<00:05,  5.51s/it]"
          ]
        },
        {
          "output_type": "stream",
          "name": "stdout",
          "text": [
            " Oops, maybe the entiny was not group. The message still gonna be sent\n"
          ]
        },
        {
          "output_type": "stream",
          "name": "stderr",
          "text": [
            "100%|██████████| 10/10 [00:54<00:00,  5.48s/it]\n"
          ]
        }
      ],
      "source": [
        "from telethon import TelegramClient\n",
        "import asyncio\n",
        "from telethon.tl.functions.messages import GetDialogFiltersRequest\n",
        "import time\n",
        "from tqdm import tqdm\n",
        "from telethon.errors import FloodWaitError\n",
        "\n",
        "async def get_spam_folder_id():\n",
        "    async with TelegramClient('anon', api_id, api_hash) as client:\n",
        "        found = False\n",
        "        # Fetch allthe folders\n",
        "        filters = await client(GetDialogFiltersRequest())\n",
        "\n",
        "        # Iterate to the folders and find the spam folder\n",
        "        for dialog_filter in filters.filters:\n",
        "\n",
        "            if 'title' not in dir(dialog_filter):\n",
        "                continue  # Skip objects that don't have a 'title' attribute\n",
        "\n",
        "            if dialog_filter.title == 'spam':  # Replace 'spam' with the name of your spam folder\n",
        "                found = True\n",
        "                #print(dialog_filter.include_peers)\n",
        "                spam_folder_peers = dialog_filter.include_peers\n",
        "\n",
        "                for peer in tqdm(spam_folder_peers):\n",
        "                      try:\n",
        "                        entity = await client.get_entity(peer)\n",
        "                        if entity:\n",
        "                            try:\n",
        "                              # Print the name of the chat or user\n",
        "                              print(\" Sending test message to:\", entity.title)\n",
        "                            except Exception as e:\n",
        "                              print(\" Oops, maybe the entiny was not group. The message still gonna be sent\")\n",
        "                            # Send a test message\n",
        "                            await client.send_message(entity, message)\n",
        "                        else:\n",
        "                            print(\" Failed to get entity for peer:\", peer)\n",
        "                      except FloodWaitError as e:\n",
        "                        print(f\" I will go for sleep of {e.seconds} seconds ...\")\n",
        "                        await asyncio.sleep(e.seconds+2)\n",
        "                        try:\n",
        "                          await client.send_message(entity, message)\n",
        "                        except Exception as e:\n",
        "                          print(\"The message could not be sent\")\n",
        "                          print(\"Reason: \", e)\n",
        "\n",
        "                      time.sleep(5)\n",
        "        if not found:\n",
        "          print(\" Could not found folder named spam\")\n",
        "\n",
        "await get_spam_folder_id()"
      ]
    }
  ]
}